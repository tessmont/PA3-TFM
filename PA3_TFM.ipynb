{
 "cells": [
  {
   "cell_type": "markdown",
   "id": "d7225d9c",
   "metadata": {},
   "source": [
    "## Working with Lists and Tuples"
   ]
  },
  {
   "cell_type": "markdown",
   "id": "b404f47e",
   "metadata": {},
   "source": [
    "## Tess Montgomery, Version 3, CS150-01"
   ]
  },
  {
   "cell_type": "markdown",
   "id": "73b3f6c5",
   "metadata": {},
   "source": [
    "#### Task 1: List Operations"
   ]
  },
  {
   "cell_type": "code",
   "execution_count": 6,
   "id": "6593ae78",
   "metadata": {},
   "outputs": [],
   "source": [
    "numbers=list()"
   ]
  },
  {
   "cell_type": "code",
   "execution_count": 8,
   "id": "3214ecba",
   "metadata": {},
   "outputs": [
    {
     "name": "stdout",
     "output_type": "stream",
     "text": [
      "(10, 20, 30, 40, 50)\n"
     ]
    }
   ],
   "source": [
    "numbers=(10,20,30,40,50)\n",
    "print(numbers)"
   ]
  },
  {
   "cell_type": "code",
   "execution_count": 16,
   "id": "beed5141",
   "metadata": {},
   "outputs": [
    {
     "data": {
      "text/plain": [
       "[10, 20, 30, 40, 50, 60]"
      ]
     },
     "execution_count": 16,
     "metadata": {},
     "output_type": "execute_result"
    }
   ],
   "source": [
    "numbers=[10,20,30,40,50]\n",
    "numbers.append(60)\n",
    "numbers"
   ]
  },
  {
   "cell_type": "code",
   "execution_count": 17,
   "id": "8fd779cc",
   "metadata": {},
   "outputs": [
    {
     "data": {
      "text/plain": [
       "[10, 20, 30, 40, 50, 60]"
      ]
     },
     "execution_count": 17,
     "metadata": {},
     "output_type": "execute_result"
    }
   ],
   "source": [
    "numbers"
   ]
  },
  {
   "cell_type": "code",
   "execution_count": 18,
   "id": "79afd980",
   "metadata": {},
   "outputs": [
    {
     "data": {
      "text/plain": [
       "[5, 10, 20, 30, 40, 50, 60]"
      ]
     },
     "execution_count": 18,
     "metadata": {},
     "output_type": "execute_result"
    }
   ],
   "source": [
    "numbers.insert(0,5)\n",
    "numbers"
   ]
  },
  {
   "cell_type": "code",
   "execution_count": 19,
   "id": "66003215",
   "metadata": {},
   "outputs": [
    {
     "data": {
      "text/plain": [
       "[5, 20, 30, 40, 50, 60]"
      ]
     },
     "execution_count": 19,
     "metadata": {},
     "output_type": "execute_result"
    }
   ],
   "source": [
    "numbers\n",
    "del numbers[1]\n",
    "numbers"
   ]
  },
  {
   "cell_type": "code",
   "execution_count": 20,
   "id": "85bcdb47",
   "metadata": {},
   "outputs": [
    {
     "name": "stdout",
     "output_type": "stream",
     "text": [
      "[5, 20, 30, 40, 50, 60]\n"
     ]
    }
   ],
   "source": [
    "print(numbers)"
   ]
  },
  {
   "cell_type": "markdown",
   "id": "96d8ee23",
   "metadata": {},
   "source": [
    "#### Task 2: Tuple Basics"
   ]
  },
  {
   "cell_type": "code",
   "execution_count": 4,
   "id": "8029fdf4",
   "metadata": {},
   "outputs": [
    {
     "name": "stdout",
     "output_type": "stream",
     "text": [
      "('Monday', 'Tuesday', 'Wednesday', 'Thursday', 'Friday', 'Saturday', 'Sunday')\n"
     ]
    }
   ],
   "source": [
    "days=(\"Monday\", \"Tuesday\", \"Wednesday\", \"Thursday\", \"Friday\", \"Saturday\", \"Sunday\")\n",
    "print(days)"
   ]
  },
  {
   "cell_type": "code",
   "execution_count": 5,
   "id": "545938e6",
   "metadata": {},
   "outputs": [
    {
     "data": {
      "text/plain": [
       "'Wednesday'"
      ]
     },
     "execution_count": 5,
     "metadata": {},
     "output_type": "execute_result"
    }
   ],
   "source": [
    "days[2]"
   ]
  },
  {
   "cell_type": "code",
   "execution_count": 10,
   "id": "468088af",
   "metadata": {},
   "outputs": [],
   "source": [
    "days=(\"Monday\", \"Tuesday\", \"Wednesday\", \"Thursday\", \"Friday\", \"Saturday\", \"Sunday\")"
   ]
  },
  {
   "cell_type": "code",
   "execution_count": 11,
   "id": "02713e0b",
   "metadata": {},
   "outputs": [
    {
     "ename": "NameError",
     "evalue": "name 'Funday' is not defined",
     "output_type": "error",
     "traceback": [
      "\u001b[0;31m---------------------------------------------------------------------------\u001b[0m",
      "\u001b[0;31mNameError\u001b[0m                                 Traceback (most recent call last)",
      "Cell \u001b[0;32mIn[11], line 1\u001b[0m\n\u001b[0;32m----> 1\u001b[0m days[\u001b[38;5;241m1\u001b[39m]\u001b[38;5;241m=\u001b[39mFunday\n\u001b[1;32m      2\u001b[0m days\n",
      "\u001b[0;31mNameError\u001b[0m: name 'Funday' is not defined"
     ]
    }
   ],
   "source": [
    "days[1]=Funday\n",
    "days"
   ]
  },
  {
   "cell_type": "code",
   "execution_count": 12,
   "id": "14a3f7f4",
   "metadata": {},
   "outputs": [],
   "source": [
    "# error occurred because tuples do not allow you to change them"
   ]
  },
  {
   "cell_type": "markdown",
   "id": "01ec578e",
   "metadata": {},
   "source": [
    "#### Task3: Reversing Sublist"
   ]
  },
  {
   "cell_type": "code",
   "execution_count": 15,
   "id": "f94a104c",
   "metadata": {},
   "outputs": [
    {
     "name": "stdout",
     "output_type": "stream",
     "text": [
      "['a', 'b', 'c', 'd', 'e', 'f', 'g', 'h', 'i', 'j', 'k', 'l', 'm', 'n', 'o', 'p', 'q', 'r', 's', 't', 'u', 'v', 'w', 'x', 'y', 'z']\n"
     ]
    }
   ],
   "source": [
    "letters=['a', 'b', 'c', 'd','e','f','g','h','i','j','k','l','m','n','o','p','q','r','s','t','u','v','w','x','y','z']\n",
    "print(letters)"
   ]
  },
  {
   "cell_type": "code",
   "execution_count": 49,
   "id": "71c9a414",
   "metadata": {},
   "outputs": [
    {
     "data": {
      "text/plain": [
       "['k', 'l', 'm', 'n', 'o', 'p']"
      ]
     },
     "execution_count": 49,
     "metadata": {},
     "output_type": "execute_result"
    }
   ],
   "source": [
    "letters=['a', 'b', 'c', 'd','e','f','g','h','i','j','k','l','m','n','o','p','q','r','s','t','u','v','w','x','y','z']\n",
    "letters[10:16]"
   ]
  },
  {
   "cell_type": "code",
   "execution_count": 53,
   "id": "3fe2a811",
   "metadata": {},
   "outputs": [
    {
     "data": {
      "text/plain": [
       "['k', 'l', 'm', 'n', 'o', 'p']"
      ]
     },
     "execution_count": 53,
     "metadata": {},
     "output_type": "execute_result"
    }
   ],
   "source": [
    "letters=['a', 'b', 'c', 'd','e','f','g','h','i','j','k','l','m','n','o','p','q','r','s','t','u','v','w','x','y','z']\n",
    "letters[10:16]"
   ]
  },
  {
   "cell_type": "code",
   "execution_count": 62,
   "id": "b4f24fee",
   "metadata": {},
   "outputs": [
    {
     "data": {
      "text/plain": [
       "['k', 'l', 'm', 'n', 'o', 'p']"
      ]
     },
     "execution_count": 62,
     "metadata": {},
     "output_type": "execute_result"
    }
   ],
   "source": [
    "letters=['a', 'b', 'c', 'd','e','f','g','h','i','j','k','l','m','n','o','p','q','r','s','t','u','v','w','x','y','z']\n",
    "letters[10:16]"
   ]
  },
  {
   "cell_type": "code",
   "execution_count": 69,
   "id": "74dc64cb",
   "metadata": {},
   "outputs": [
    {
     "data": {
      "text/plain": [
       "['a',\n",
       " 'b',\n",
       " 'c',\n",
       " 'd',\n",
       " 'e',\n",
       " 'f',\n",
       " 'g',\n",
       " 'h',\n",
       " 'i',\n",
       " 'j',\n",
       " 'k',\n",
       " 'l',\n",
       " 'm',\n",
       " 'n',\n",
       " 'o',\n",
       " 'p',\n",
       " 'q',\n",
       " 'r',\n",
       " 's',\n",
       " 't',\n",
       " 'u',\n",
       " 'v',\n",
       " 'w',\n",
       " 'x',\n",
       " 'y',\n",
       " 'z']"
      ]
     },
     "execution_count": 69,
     "metadata": {},
     "output_type": "execute_result"
    }
   ],
   "source": [
    "letters=['a', 'b', 'c', 'd','e','f','g','h','i','j','k','l','m','n','o','p','q','r','s','t','u','v','w','x','y','z']\n",
    "letters"
   ]
  },
  {
   "cell_type": "code",
   "execution_count": 70,
   "id": "8895c23d",
   "metadata": {},
   "outputs": [
    {
     "data": {
      "text/plain": [
       "['z',\n",
       " 'y',\n",
       " 'x',\n",
       " 'w',\n",
       " 'v',\n",
       " 'u',\n",
       " 't',\n",
       " 's',\n",
       " 'r',\n",
       " 'q',\n",
       " 'p',\n",
       " 'o',\n",
       " 'n',\n",
       " 'm',\n",
       " 'l',\n",
       " 'k',\n",
       " 'j',\n",
       " 'i',\n",
       " 'h',\n",
       " 'g',\n",
       " 'f',\n",
       " 'e',\n",
       " 'd',\n",
       " 'c',\n",
       " 'b',\n",
       " 'a']"
      ]
     },
     "execution_count": 70,
     "metadata": {},
     "output_type": "execute_result"
    }
   ],
   "source": [
    "letters.reverse()\n",
    "letters"
   ]
  },
  {
   "cell_type": "code",
   "execution_count": 72,
   "id": "8134ad79",
   "metadata": {},
   "outputs": [
    {
     "data": {
      "text/plain": [
       "['p', 'o', 'n', 'm', 'l', 'k']"
      ]
     },
     "execution_count": 72,
     "metadata": {},
     "output_type": "execute_result"
    }
   ],
   "source": [
    "letters[10:16]"
   ]
  },
  {
   "cell_type": "markdown",
   "id": "3c5f59ed",
   "metadata": {},
   "source": [
    "#### Task 4: Tuple Packing and Unpacking"
   ]
  },
  {
   "cell_type": "code",
   "execution_count": 74,
   "id": "ddbc0a5d",
   "metadata": {},
   "outputs": [
    {
     "data": {
      "text/plain": [
       "('Tess', 'Montgomery', 53, 'Computer Programming')"
      ]
     },
     "execution_count": 74,
     "metadata": {},
     "output_type": "execute_result"
    }
   ],
   "source": [
    "student=(\"Tess\",\"Montgomery\",53,\"Computer Programming\")\n",
    "student"
   ]
  },
  {
   "cell_type": "code",
   "execution_count": 81,
   "id": "9fe08654",
   "metadata": {},
   "outputs": [],
   "source": [
    "student=(\"Tess\",\"Montgomery\",53,\"Computer Programming\")\n",
    "first_name, last_name, age, favorite_subject=student"
   ]
  },
  {
   "cell_type": "code",
   "execution_count": 82,
   "id": "32a32373",
   "metadata": {},
   "outputs": [
    {
     "data": {
      "text/plain": [
       "'Tess'"
      ]
     },
     "execution_count": 82,
     "metadata": {},
     "output_type": "execute_result"
    }
   ],
   "source": [
    "first_name"
   ]
  },
  {
   "cell_type": "code",
   "execution_count": 83,
   "id": "1d1a5aeb",
   "metadata": {},
   "outputs": [
    {
     "data": {
      "text/plain": [
       "'Montgomery'"
      ]
     },
     "execution_count": 83,
     "metadata": {},
     "output_type": "execute_result"
    }
   ],
   "source": [
    "last_name"
   ]
  },
  {
   "cell_type": "code",
   "execution_count": 84,
   "id": "c91af776",
   "metadata": {},
   "outputs": [
    {
     "data": {
      "text/plain": [
       "53"
      ]
     },
     "execution_count": 84,
     "metadata": {},
     "output_type": "execute_result"
    }
   ],
   "source": [
    "age"
   ]
  },
  {
   "cell_type": "code",
   "execution_count": 85,
   "id": "fb32a8c8",
   "metadata": {},
   "outputs": [
    {
     "data": {
      "text/plain": [
       "'Computer Programming'"
      ]
     },
     "execution_count": 85,
     "metadata": {},
     "output_type": "execute_result"
    }
   ],
   "source": [
    "favorite_subject"
   ]
  },
  {
   "cell_type": "markdown",
   "id": "d6c7bd97",
   "metadata": {},
   "source": [
    "#### Task 5: Shopping List"
   ]
  },
  {
   "cell_type": "code",
   "execution_count": 21,
   "id": "5e045a0a",
   "metadata": {},
   "outputs": [],
   "source": [
    "shopping_list=list()"
   ]
  },
  {
   "cell_type": "code",
   "execution_count": 22,
   "id": "ef9c99bb",
   "metadata": {},
   "outputs": [
    {
     "data": {
      "text/plain": [
       "('bread', 'milk', 'eggs', 'ice cream', 'juice')"
      ]
     },
     "execution_count": 22,
     "metadata": {},
     "output_type": "execute_result"
    }
   ],
   "source": [
    "shopping_list=(\"bread\", \"milk\", \"eggs\", \"ice cream\", \"juice\")\n",
    "shopping_list"
   ]
  },
  {
   "cell_type": "code",
   "execution_count": 23,
   "id": "6ec4f0a4",
   "metadata": {},
   "outputs": [
    {
     "data": {
      "text/plain": [
       "5"
      ]
     },
     "execution_count": 23,
     "metadata": {},
     "output_type": "execute_result"
    }
   ],
   "source": [
    "len(shopping_list)"
   ]
  },
  {
   "cell_type": "code",
   "execution_count": 98,
   "id": "441eeae0",
   "metadata": {},
   "outputs": [
    {
     "name": "stdout",
     "output_type": "stream",
     "text": [
      "['bread', 'milk', 'eggs', 'ice cream', 'juice']\n"
     ]
    }
   ],
   "source": [
    "shopping_list=[\"bread\", \"milk\", \"eggs\", \"ice cream\", \"juice\"]\n",
    "print(shopping_list)"
   ]
  },
  {
   "cell_type": "code",
   "execution_count": 100,
   "id": "4f93d034",
   "metadata": {},
   "outputs": [
    {
     "name": "stdout",
     "output_type": "stream",
     "text": [
      "['bread', 'milk', 'wine', 'ice cream', 'juice']\n"
     ]
    }
   ],
   "source": [
    "shopping_list[2] = 'wine'\n",
    "print(shopping_list)"
   ]
  },
  {
   "cell_type": "code",
   "execution_count": 101,
   "id": "e47a1938",
   "metadata": {},
   "outputs": [
    {
     "data": {
      "text/plain": [
       "['bread', 'ice cream', 'juice', 'milk', 'wine']"
      ]
     },
     "execution_count": 101,
     "metadata": {},
     "output_type": "execute_result"
    }
   ],
   "source": [
    "shopping_list.sort()\n",
    "shopping_list"
   ]
  },
  {
   "cell_type": "code",
   "execution_count": 102,
   "id": "cf5eda28",
   "metadata": {},
   "outputs": [
    {
     "name": "stdout",
     "output_type": "stream",
     "text": [
      "['bread', 'ice cream', 'juice', 'milk', 'wine']\n"
     ]
    }
   ],
   "source": [
    "print(shopping_list)"
   ]
  }
 ],
 "metadata": {
  "kernelspec": {
   "display_name": "Python 3 (ipykernel)",
   "language": "python",
   "name": "python3"
  },
  "language_info": {
   "codemirror_mode": {
    "name": "ipython",
    "version": 3
   },
   "file_extension": ".py",
   "mimetype": "text/x-python",
   "name": "python",
   "nbconvert_exporter": "python",
   "pygments_lexer": "ipython3",
   "version": "3.11.5"
  }
 },
 "nbformat": 4,
 "nbformat_minor": 5
}
